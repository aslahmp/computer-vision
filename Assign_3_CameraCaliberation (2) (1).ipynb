{
 "cells": [
  {
   "cell_type": "code",
   "execution_count": 27,
   "metadata": {
    "id": "Jo809IOoxh6t"
   },
   "outputs": [],
   "source": [
    "import cv2\n",
    "import numpy as np\n",
    "import os\n",
    "import glob"
   ]
  },
  {
   "cell_type": "code",
   "execution_count": 28,
   "metadata": {
    "id": "e_2J1YBRzQ5W"
   },
   "outputs": [],
   "source": [
    "#from google.colab.patches import cv2_imshow\n",
    "# import cv2 as cv"
   ]
  },
  {
   "cell_type": "code",
   "execution_count": 29,
   "metadata": {
    "id": "62LRsL0Yx1r4"
   },
   "outputs": [],
   "source": [
    "CHECKERBOARD = (6, 9)"
   ]
  },
  {
   "cell_type": "code",
   "execution_count": 30,
   "metadata": {
    "id": "Ua9GBPTGx4po"
   },
   "outputs": [],
   "source": [
    "criteria = (cv2.TERM_CRITERIA_EPS +\n",
    "            cv2.TERM_CRITERIA_MAX_ITER, 30, 0.001)"
   ]
  },
  {
   "cell_type": "code",
   "execution_count": 31,
   "metadata": {
    "id": "YhhVIUOgx8YG"
   },
   "outputs": [
    {
     "name": "stdout",
     "output_type": "stream",
     "text": [
      "[[[  0.   0.   0.]\n",
      "  [ 20.   0.   0.]\n",
      "  [ 40.   0.   0.]\n",
      "  [ 60.   0.   0.]\n",
      "  [ 80.   0.   0.]\n",
      "  [100.   0.   0.]\n",
      "  [  0.  20.   0.]\n",
      "  [ 20.  20.   0.]\n",
      "  [ 40.  20.   0.]\n",
      "  [ 60.  20.   0.]\n",
      "  [ 80.  20.   0.]\n",
      "  [100.  20.   0.]\n",
      "  [  0.  40.   0.]\n",
      "  [ 20.  40.   0.]\n",
      "  [ 40.  40.   0.]\n",
      "  [ 60.  40.   0.]\n",
      "  [ 80.  40.   0.]\n",
      "  [100.  40.   0.]\n",
      "  [  0.  60.   0.]\n",
      "  [ 20.  60.   0.]\n",
      "  [ 40.  60.   0.]\n",
      "  [ 60.  60.   0.]\n",
      "  [ 80.  60.   0.]\n",
      "  [100.  60.   0.]\n",
      "  [  0.  80.   0.]\n",
      "  [ 20.  80.   0.]\n",
      "  [ 40.  80.   0.]\n",
      "  [ 60.  80.   0.]\n",
      "  [ 80.  80.   0.]\n",
      "  [100.  80.   0.]\n",
      "  [  0. 100.   0.]\n",
      "  [ 20. 100.   0.]\n",
      "  [ 40. 100.   0.]\n",
      "  [ 60. 100.   0.]\n",
      "  [ 80. 100.   0.]\n",
      "  [100. 100.   0.]\n",
      "  [  0. 120.   0.]\n",
      "  [ 20. 120.   0.]\n",
      "  [ 40. 120.   0.]\n",
      "  [ 60. 120.   0.]\n",
      "  [ 80. 120.   0.]\n",
      "  [100. 120.   0.]\n",
      "  [  0. 140.   0.]\n",
      "  [ 20. 140.   0.]\n",
      "  [ 40. 140.   0.]\n",
      "  [ 60. 140.   0.]\n",
      "  [ 80. 140.   0.]\n",
      "  [100. 140.   0.]\n",
      "  [  0. 160.   0.]\n",
      "  [ 20. 160.   0.]\n",
      "  [ 40. 160.   0.]\n",
      "  [ 60. 160.   0.]\n",
      "  [ 80. 160.   0.]\n",
      "  [100. 160.   0.]]]\n"
     ]
    }
   ],
   "source": [
    "threedpoints = []\n",
    "twodpoints = []\n",
    "objectp3d = np.zeros((1, CHECKERBOARD[0]\n",
    "                      * CHECKERBOARD[1],\n",
    "                      3), np.float32)\n",
    "objectp3d[0, :, :2] = np.mgrid[0:CHECKERBOARD[0],\n",
    "                               0:CHECKERBOARD[1]].T.reshape(-1, 2)\n",
    "#prev_img_shape = None\n",
    "objectp3d *= 20\n",
    "print(objectp3d)"
   ]
  },
  {
   "cell_type": "code",
   "execution_count": 32,
   "metadata": {
    "id": "uGDfJZM_yF7o"
   },
   "outputs": [],
   "source": [
    "folder_path = 'attachments'\n",
    "images = glob.glob(os.path.join(folder_path, '*.jpg'))"
   ]
  },
  {
   "cell_type": "code",
   "execution_count": 33,
   "metadata": {
    "id": "3DgfCYFIyk1P"
   },
   "outputs": [
    {
     "name": "stdout",
     "output_type": "stream",
     "text": [
      "True\n",
      "True\n",
      "True\n",
      "True\n",
      "True\n",
      "True\n",
      "True\n",
      "True\n",
      "True\n",
      "True\n",
      "True\n",
      "True\n",
      "True\n",
      "True\n",
      "True\n",
      "True\n",
      "True\n",
      "True\n",
      "True\n",
      "True\n",
      "True\n",
      "True\n",
      "True\n",
      "True\n",
      "True\n",
      "True\n",
      "True\n",
      "True\n",
      "True\n"
     ]
    }
   ],
   "source": [
    "for filename in images:\n",
    "  \n",
    "    # print(imagePath)\n",
    "    image = cv2.imread(filename)\n",
    "    grayColor = cv2.cvtColor(image, cv2.COLOR_BGR2GRAY)\n",
    "    \n",
    "    ret, corners = cv2.findChessboardCorners(\n",
    "                    grayColor, CHECKERBOARD)\n",
    "    print(ret)"
   ]
  },
  {
   "cell_type": "code",
   "execution_count": 34,
   "metadata": {
    "colab": {
     "base_uri": "https://localhost:8080/",
     "height": 757
    },
    "id": "AwS4Znq6zJ6_",
    "outputId": "0afdfb12-dad3-4f1a-ed7b-6b12aab54859"
   },
   "outputs": [],
   "source": [
    "if ret == True:\n",
    "        threedpoints.append(objectp3d)\n",
    "        corners2 = cv2.cornerSubPix(\n",
    "            grayColor, corners, (11, 11), (-1, -1), criteria)\n",
    "        twodpoints.append(corners2)\n",
    "        image = cv2.drawChessboardCorners(image,\n",
    "                                          CHECKERBOARD,\n",
    "                                          corners2, ret)\n",
    "        "
   ]
  },
  {
   "cell_type": "code",
   "execution_count": 35,
   "metadata": {},
   "outputs": [
    {
     "data": {
      "text/plain": [
       "13"
      ]
     },
     "execution_count": 35,
     "metadata": {},
     "output_type": "execute_result"
    }
   ],
   "source": [
    "cv2.imshow('image', image)\n",
    "cv2.waitKey(0)"
   ]
  },
  {
   "cell_type": "code",
   "execution_count": 36,
   "metadata": {
    "colab": {
     "base_uri": "https://localhost:8080/"
    },
    "id": "Ta5LgFrrzze2",
    "outputId": "9c3e0f2f-bc2b-4f92-e04f-7c2febe0c0b5"
   },
   "outputs": [
    {
     "name": "stdout",
     "output_type": "stream",
     "text": [
      " Camera matrix:\n",
      "[[3.47064189e+03 0.00000000e+00 7.20083890e+02]\n",
      " [0.00000000e+00 4.32731100e+03 3.16847916e+02]\n",
      " [0.00000000e+00 0.00000000e+00 1.00000000e+00]]\n",
      "\n",
      " Distortion coefficient:\n",
      "[[ 3.90858585e+00 -4.54111930e+02 -8.99012480e-02  9.74234371e-03\n",
      "  -6.05987724e+00]]\n",
      "\n",
      " Rotation Vectors:\n",
      "(array([[0.0406519 ],\n",
      "       [0.9750166 ],\n",
      "       [2.95451813]]),)\n"
     ]
    }
   ],
   "source": [
    "h, w = image.shape[:2]\n",
    "\n",
    "ret, matrix, distortion, r_vecs, t_vecs = cv2.calibrateCamera(\n",
    "    threedpoints, twodpoints, grayColor.shape[::-1], None, None)\n",
    "\n",
    "print(\" Camera matrix:\")\n",
    "print(matrix)\n",
    "\n",
    "print(\"\\n Distortion coefficient:\")\n",
    "print(distortion)\n",
    "\n",
    "print(\"\\n Rotation Vectors:\")\n",
    "print(r_vecs)"
   ]
  },
  {
   "cell_type": "code",
   "execution_count": null,
   "metadata": {},
   "outputs": [],
   "source": []
  }
 ],
 "metadata": {
  "colab": {
   "provenance": []
  },
  "kernelspec": {
   "display_name": "Python 3 (ipykernel)",
   "language": "python",
   "name": "python3"
  },
  "language_info": {
   "codemirror_mode": {
    "name": "ipython",
    "version": 3
   },
   "file_extension": ".py",
   "mimetype": "text/x-python",
   "name": "python",
   "nbconvert_exporter": "python",
   "pygments_lexer": "ipython3",
   "version": "3.11.5"
  }
 },
 "nbformat": 4,
 "nbformat_minor": 1
}
