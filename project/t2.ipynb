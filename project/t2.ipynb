{
 "cells": [
  {
   "cell_type": "code",
   "execution_count": 5,
   "metadata": {},
   "outputs": [
    {
     "ename": "AttributeError",
     "evalue": "'NoneType' object has no attribute 'shape'",
     "output_type": "error",
     "traceback": [
      "\u001b[1;31m---------------------------------------------------------------------------\u001b[0m",
      "\u001b[1;31mAttributeError\u001b[0m                            Traceback (most recent call last)",
      "Cell \u001b[1;32mIn[5], line 63\u001b[0m\n\u001b[0;32m     60\u001b[0m surrounding_region \u001b[38;5;241m=\u001b[39m (\u001b[38;5;241m50\u001b[39m, \u001b[38;5;241m50\u001b[39m, \u001b[38;5;241m250\u001b[39m, \u001b[38;5;241m250\u001b[39m)  \u001b[38;5;66;03m# (x1, y1, x2, y2)\u001b[39;00m\n\u001b[0;32m     62\u001b[0m \u001b[38;5;66;03m# Apply the classifier\u001b[39;00m\n\u001b[1;32m---> 63\u001b[0m probability_map \u001b[38;5;241m=\u001b[39m color_histogram_bayes_classifier(image, object_region, surrounding_region)\n\u001b[0;32m     65\u001b[0m \u001b[38;5;66;03m# Visualize the result\u001b[39;00m\n\u001b[0;32m     66\u001b[0m cv2\u001b[38;5;241m.\u001b[39mimshow(\u001b[38;5;124m\"\u001b[39m\u001b[38;5;124mOriginal Image\u001b[39m\u001b[38;5;124m\"\u001b[39m, image)\n",
      "Cell \u001b[1;32mIn[5], line 31\u001b[0m, in \u001b[0;36mcolor_histogram_bayes_classifier\u001b[1;34m(image, object_region, surrounding_region)\u001b[0m\n\u001b[0;32m     22\u001b[0m \u001b[38;5;250m\u001b[39m\u001b[38;5;124;03m\"\"\"\u001b[39;00m\n\u001b[0;32m     23\u001b[0m \u001b[38;5;124;03mClassify pixels in an image as object or background using a color histogram-based Bayes classifier.\u001b[39;00m\n\u001b[0;32m     24\u001b[0m \u001b[38;5;124;03m\u001b[39;00m\n\u001b[1;32m   (...)\u001b[0m\n\u001b[0;32m     28\u001b[0m \u001b[38;5;124;03m:return: Probability map of object pixels\u001b[39;00m\n\u001b[0;32m     29\u001b[0m \u001b[38;5;124;03m\"\"\"\u001b[39;00m\n\u001b[0;32m     30\u001b[0m \u001b[38;5;66;03m# Create color histograms\u001b[39;00m\n\u001b[1;32m---> 31\u001b[0m object_hist \u001b[38;5;241m=\u001b[39m create_histogram(image, object_region)\n\u001b[0;32m     32\u001b[0m surround_hist \u001b[38;5;241m=\u001b[39m create_histogram(image, surrounding_region)\n\u001b[0;32m     34\u001b[0m \u001b[38;5;66;03m# Normalize histograms\u001b[39;00m\n",
      "Cell \u001b[1;32mIn[5], line 6\u001b[0m, in \u001b[0;36mcreate_histogram\u001b[1;34m(image, region)\u001b[0m\n\u001b[0;32m      4\u001b[0m \u001b[38;5;28;01mdef\u001b[39;00m \u001b[38;5;21mcreate_histogram\u001b[39m(image, region):\n\u001b[0;32m      5\u001b[0m \u001b[38;5;250m    \u001b[39m\u001b[38;5;124;03m\"\"\"Create a color histogram for the given region of the image.\"\"\"\u001b[39;00m\n\u001b[1;32m----> 6\u001b[0m     mask \u001b[38;5;241m=\u001b[39m np\u001b[38;5;241m.\u001b[39mzeros(image\u001b[38;5;241m.\u001b[39mshape[:\u001b[38;5;241m2\u001b[39m], dtype\u001b[38;5;241m=\u001b[39mnp\u001b[38;5;241m.\u001b[39muint8)\n\u001b[0;32m      7\u001b[0m     cv2\u001b[38;5;241m.\u001b[39mrectangle(mask, (region[\u001b[38;5;241m0\u001b[39m], region[\u001b[38;5;241m1\u001b[39m]), (region[\u001b[38;5;241m2\u001b[39m], region[\u001b[38;5;241m3\u001b[39m]), \u001b[38;5;241m255\u001b[39m, \u001b[38;5;241m-\u001b[39m\u001b[38;5;241m1\u001b[39m)\n\u001b[0;32m      8\u001b[0m     hist \u001b[38;5;241m=\u001b[39m cv2\u001b[38;5;241m.\u001b[39mcalcHist([image], [\u001b[38;5;241m0\u001b[39m, \u001b[38;5;241m1\u001b[39m, \u001b[38;5;241m2\u001b[39m], mask, [\u001b[38;5;241m8\u001b[39m, \u001b[38;5;241m8\u001b[39m, \u001b[38;5;241m8\u001b[39m], [\u001b[38;5;241m0\u001b[39m, \u001b[38;5;241m256\u001b[39m, \u001b[38;5;241m0\u001b[39m, \u001b[38;5;241m256\u001b[39m, \u001b[38;5;241m0\u001b[39m, \u001b[38;5;241m256\u001b[39m])\n",
      "\u001b[1;31mAttributeError\u001b[0m: 'NoneType' object has no attribute 'shape'"
     ]
    }
   ],
   "source": [
    "import numpy as np\n",
    "import cv2\n",
    "\n",
    "def create_histogram(image, region):\n",
    "    \"\"\"Create a color histogram for the given region of the image.\"\"\"\n",
    "    mask = np.zeros(image.shape[:2], dtype=np.uint8)\n",
    "    cv2.rectangle(mask, (region[0], region[1]), (region[2], region[3]), 255, -1)\n",
    "    hist = cv2.calcHist([image], [0, 1, 2], mask, [8, 8, 8], [0, 256, 0, 256, 0, 256])\n",
    "    return hist\n",
    "\n",
    "def classify_pixel(pixel, object_hist, surround_hist, object_prior):\n",
    "    \"\"\"Classify a pixel as object or background using Bayes' rule.\"\"\"\n",
    "    object_likelihood = object_hist[pixel[0]//32, pixel[1]//32, pixel[2]//32]\n",
    "    surround_likelihood = surround_hist[pixel[0]//32, pixel[1]//32, pixel[2]//32]\n",
    "    \n",
    "    if object_likelihood + surround_likelihood > 0:\n",
    "        return object_likelihood / (object_likelihood + surround_likelihood)\n",
    "    else:\n",
    "        return 0.5\n",
    "\n",
    "def color_histogram_bayes_classifier(image, object_region, surrounding_region):\n",
    "    \"\"\"\n",
    "    Classify pixels in an image as object or background using a color histogram-based Bayes classifier.\n",
    "    \n",
    "    :param image: Input image (numpy array)\n",
    "    :param object_region: Tuple of (x1, y1, x2, y2) coordinates for the object bounding box\n",
    "    :param surrounding_region: Tuple of (x1, y1, x2, y2) coordinates for the surrounding region\n",
    "    :return: Probability map of object pixels\n",
    "    \"\"\"\n",
    "    # Create color histograms\n",
    "    object_hist = create_histogram(image, object_region)\n",
    "    surround_hist = create_histogram(image, surrounding_region)\n",
    "    \n",
    "    # Normalize histograms\n",
    "    object_hist /= object_hist.sum()\n",
    "    surround_hist /= surround_hist.sum()\n",
    "    \n",
    "    # Calculate object prior probability\n",
    "    object_area = (object_region[2] - object_region[0]) * (object_region[3] - object_region[1])\n",
    "    surround_area = (surrounding_region[2] - surrounding_region[0]) * (surrounding_region[3] - surrounding_region[1])\n",
    "    object_prior = object_area / (object_area + surround_area)\n",
    "    \n",
    "    # Create probability map\n",
    "    prob_map = np.zeros(image.shape[:2], dtype=np.float32)\n",
    "    \n",
    "    for y in range(image.shape[0]):\n",
    "        for x in range(image.shape[1]):\n",
    "            pixel = image[y, x]\n",
    "            prob_map[y, x] = classify_pixel(pixel, object_hist, surround_hist, object_prior)\n",
    "    \n",
    "    return prob_map\n",
    "\n",
    "# Example usage\n",
    "if __name__ == \"__main__\":\n",
    "    # Load an example image\n",
    "    image = cv2.imread(\"sequence\\00000001.jpg\")\n",
    "    \n",
    "    # Define object and surrounding regions (example values)\n",
    "    object_region = (100, 100, 200, 200)  # (x1, y1, x2, y2)\n",
    "    surrounding_region = (50, 50, 250, 250)  # (x1, y1, x2, y2)\n",
    "    \n",
    "    # Apply the classifier\n",
    "    probability_map = color_histogram_bayes_classifier(image, object_region, surrounding_region)\n",
    "    \n",
    "    # Visualize the result\n",
    "    cv2.imshow(\"Original Image\", image)\n",
    "    cv2.imshow(\"Probability Map\", probability_map)\n",
    "    cv2.waitKey(0)\n",
    "    cv2.destroyAllWindows()"
   ]
  },
  {
   "cell_type": "code",
   "execution_count": null,
   "metadata": {},
   "outputs": [],
   "source": []
  }
 ],
 "metadata": {
  "kernelspec": {
   "display_name": "base",
   "language": "python",
   "name": "python3"
  },
  "language_info": {
   "codemirror_mode": {
    "name": "ipython",
    "version": 3
   },
   "file_extension": ".py",
   "mimetype": "text/x-python",
   "name": "python",
   "nbconvert_exporter": "python",
   "pygments_lexer": "ipython3",
   "version": "3.11.7"
  }
 },
 "nbformat": 4,
 "nbformat_minor": 2
}
