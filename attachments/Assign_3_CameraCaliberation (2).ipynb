{
  "cells": [
    {
      "cell_type": "code",
      "execution_count": 45,
      "metadata": {
        "id": "Jo809IOoxh6t"
      },
      "outputs": [],
      "source": [
        "import cv2\n",
        "import numpy as np\n",
        "import os\n",
        "import glob"
      ]
    },
    {
      "cell_type": "code",
      "execution_count": 46,
      "metadata": {
        "id": "e_2J1YBRzQ5W"
      },
      "outputs": [],
      "source": [
        "# from google.colab.patches import cv2_imshow"
      ]
    },
    {
      "cell_type": "code",
      "execution_count": 47,
      "metadata": {
        "id": "62LRsL0Yx1r4"
      },
      "outputs": [],
      "source": [
        "CHECKERBOARD = (7, 10)"
      ]
    },
    {
      "cell_type": "code",
      "execution_count": 48,
      "metadata": {
        "id": "Ua9GBPTGx4po"
      },
      "outputs": [],
      "source": [
        "criteria = (cv2.TERM_CRITERIA_EPS +\n",
        "            cv2.TERM_CRITERIA_MAX_ITER, 30, 0.001)"
      ]
    },
    {
      "cell_type": "code",
      "execution_count": 49,
      "metadata": {
        "id": "YhhVIUOgx8YG"
      },
      "outputs": [],
      "source": [
        "threedpoints = []\n",
        "twodpoints = []\n",
        "objectp3d = np.zeros((1, CHECKERBOARD[0]\n",
        "                      * CHECKERBOARD[1],\n",
        "                      3), np.float32)\n",
        "objectp3d[0, :, :2] = np.mgrid[0:CHECKERBOARD[0],\n",
        "                               0:CHECKERBOARD[1]].T.reshape(-1, 2)\n",
        "prev_img_shape = None"
      ]
    },
    {
      "cell_type": "code",
      "execution_count": 50,
      "metadata": {
        "id": "uGDfJZM_yF7o"
      },
      "outputs": [
        {
          "data": {
            "text/plain": [
              "['calibration Data/image8.png',\n",
              " 'calibration Data/image9.png',\n",
              " 'calibration Data/image14.png',\n",
              " 'calibration Data/image28.png',\n",
              " 'calibration Data/image29.png',\n",
              " 'calibration Data/image15.png',\n",
              " 'calibration Data/image17.png',\n",
              " 'calibration Data/image16.png',\n",
              " 'calibration Data/image12.png',\n",
              " 'calibration Data/image13.png',\n",
              " 'calibration Data/image11.png',\n",
              " 'calibration Data/image10.png',\n",
              " 'calibration Data/image35.png',\n",
              " 'calibration Data/image21.png',\n",
              " 'calibration Data/image20.png',\n",
              " 'calibration Data/image34.png',\n",
              " 'calibration Data/image22.png',\n",
              " 'calibration Data/image23.png',\n",
              " 'calibration Data/image27.png',\n",
              " 'calibration Data/image33.png',\n",
              " 'calibration Data/image32.png',\n",
              " 'calibration Data/image26.png',\n",
              " 'calibration Data/image18.png',\n",
              " 'calibration Data/image30.png',\n",
              " 'calibration Data/image24.png',\n",
              " 'calibration Data/image25.png',\n",
              " 'calibration Data/image31.png',\n",
              " 'calibration Data/image19.png',\n",
              " 'calibration Data/image7.png',\n",
              " 'calibration Data/image6.png',\n",
              " 'calibration Data/image4.png',\n",
              " 'calibration Data/image5.png',\n",
              " 'calibration Data/image1.png',\n",
              " 'calibration Data/image0.png',\n",
              " 'calibration Data/image2.png',\n",
              " 'calibration Data/image3.png']"
            ]
          },
          "execution_count": 50,
          "metadata": {},
          "output_type": "execute_result"
        }
      ],
      "source": [
        "folder_path = 'calibration Data'\n",
        "images = glob.glob(os.path.join(folder_path, '*'))\n",
        "images"
      ]
    },
    {
      "cell_type": "code",
      "execution_count": 51,
      "metadata": {},
      "outputs": [
        {
          "data": {
            "text/plain": [
              "36"
            ]
          },
          "execution_count": 51,
          "metadata": {},
          "output_type": "execute_result"
        }
      ],
      "source": [
        "len(images)"
      ]
    },
    {
      "cell_type": "code",
      "execution_count": 52,
      "metadata": {
        "id": "3DgfCYFIyk1P"
      },
      "outputs": [
        {
          "name": "stdout",
          "output_type": "stream",
          "text": [
            "calibration Data/image8.png\n",
            "False\n",
            "calibration Data/image9.png\n",
            "False\n",
            "calibration Data/image14.png\n",
            "False\n",
            "calibration Data/image28.png\n",
            "False\n",
            "calibration Data/image29.png\n",
            "False\n",
            "calibration Data/image15.png\n",
            "False\n",
            "calibration Data/image17.png\n",
            "False\n",
            "calibration Data/image16.png\n",
            "False\n",
            "calibration Data/image12.png\n",
            "False\n",
            "calibration Data/image13.png\n",
            "False\n",
            "calibration Data/image11.png\n",
            "False\n",
            "calibration Data/image10.png\n",
            "False\n",
            "calibration Data/image35.png\n",
            "False\n",
            "calibration Data/image21.png\n",
            "False\n",
            "calibration Data/image20.png\n",
            "False\n",
            "calibration Data/image34.png\n",
            "False\n",
            "calibration Data/image22.png\n",
            "False\n",
            "calibration Data/image23.png\n",
            "False\n",
            "calibration Data/image27.png\n",
            "False\n",
            "calibration Data/image33.png\n",
            "False\n",
            "calibration Data/image32.png\n",
            "False\n",
            "calibration Data/image26.png\n",
            "False\n",
            "calibration Data/image18.png\n",
            "False\n",
            "calibration Data/image30.png\n",
            "False\n",
            "calibration Data/image24.png\n",
            "False\n",
            "calibration Data/image25.png\n",
            "False\n",
            "calibration Data/image31.png\n",
            "False\n",
            "calibration Data/image19.png\n",
            "False\n",
            "calibration Data/image7.png\n",
            "False\n",
            "calibration Data/image6.png\n",
            "False\n",
            "calibration Data/image4.png\n",
            "False\n",
            "calibration Data/image5.png\n",
            "False\n",
            "calibration Data/image1.png\n",
            "False\n",
            "calibration Data/image0.png\n",
            "False\n",
            "calibration Data/image2.png\n",
            "False\n",
            "calibration Data/image3.png\n",
            "False\n"
          ]
        }
      ],
      "source": [
        "for filename in images:\n",
        "    print(filename)\n",
        "    image = cv2.imread(filename)\n",
        "    grayColor = cv2.cvtColor(image, cv2.COLOR_BGR2GRAY)\n",
        "    # cv2.imshow('grayColor', grayColor)\n",
        "    # cv2.waitKey(0)\n",
        "\n",
        "    ret, corners = cv2.findChessboardCorners(\n",
        "                    image, CHECKERBOARD,None\n",
        "                   )\n",
        "    print(ret)"
      ]
    },
    {
      "cell_type": "code",
      "execution_count": 53,
      "metadata": {
        "colab": {
          "base_uri": "https://localhost:8080/",
          "height": 757
        },
        "id": "AwS4Znq6zJ6_",
        "outputId": "0afdfb12-dad3-4f1a-ed7b-6b12aab54859"
      },
      "outputs": [],
      "source": [
        "if ret == True:\n",
        "        threedpoints.append(objectp3d)\n",
        "        corners2 = cv2.cornerSubPix(\n",
        "            grayColor, corners, (11, 11), (-1, -1), criteria)\n",
        "        twodpoints.append(corners2)\n",
        "        image = cv2.drawChessboardCorners(image,\n",
        "                                          CHECKERBOARD,\n",
        "                                          corners2, ret)\n",
        "# cv2_imshow(image)"
      ]
    },
    {
      "cell_type": "code",
      "execution_count": 54,
      "metadata": {
        "colab": {
          "base_uri": "https://localhost:8080/"
        },
        "id": "Ta5LgFrrzze2",
        "outputId": "9c3e0f2f-bc2b-4f92-e04f-7c2febe0c0b5"
      },
      "outputs": [
        {
          "ename": "error",
          "evalue": "OpenCV(4.10.0) /Users/xperience/GHA-Actions-OpenCV/_work/opencv-python/opencv-python/opencv/modules/calib3d/src/calibration.cpp:3859: error: (-215:Assertion failed) nimages > 0 in function 'calibrateCameraRO'\n",
          "output_type": "error",
          "traceback": [
            "\u001b[0;31m---------------------------------------------------------------------------\u001b[0m",
            "\u001b[0;31merror\u001b[0m                                     Traceback (most recent call last)",
            "Cell \u001b[0;32mIn[54], line 3\u001b[0m\n\u001b[1;32m      1\u001b[0m h, w \u001b[38;5;241m=\u001b[39m image\u001b[38;5;241m.\u001b[39mshape[:\u001b[38;5;241m2\u001b[39m]\n\u001b[0;32m----> 3\u001b[0m ret, matrix, distortion, r_vecs, t_vecs \u001b[38;5;241m=\u001b[39m cv2\u001b[38;5;241m.\u001b[39mcalibrateCamera(\n\u001b[1;32m      4\u001b[0m     threedpoints, twodpoints, grayColor\u001b[38;5;241m.\u001b[39mshape[::\u001b[38;5;241m-\u001b[39m\u001b[38;5;241m1\u001b[39m], \u001b[38;5;28;01mNone\u001b[39;00m, \u001b[38;5;28;01mNone\u001b[39;00m)\n\u001b[1;32m      6\u001b[0m \u001b[38;5;28mprint\u001b[39m(\u001b[38;5;124m\"\u001b[39m\u001b[38;5;124m Camera matrix:\u001b[39m\u001b[38;5;124m\"\u001b[39m)\n\u001b[1;32m      7\u001b[0m \u001b[38;5;28mprint\u001b[39m(matrix)\n",
            "\u001b[0;31merror\u001b[0m: OpenCV(4.10.0) /Users/xperience/GHA-Actions-OpenCV/_work/opencv-python/opencv-python/opencv/modules/calib3d/src/calibration.cpp:3859: error: (-215:Assertion failed) nimages > 0 in function 'calibrateCameraRO'\n"
          ]
        }
      ],
      "source": [
        "h, w = image.shape[:2]\n",
        "\n",
        "ret, matrix, distortion, r_vecs, t_vecs = cv2.calibrateCamera(\n",
        "    threedpoints, twodpoints, grayColor.shape[::-1], None, None)\n",
        "\n",
        "print(\" Camera matrix:\")\n",
        "print(matrix)\n",
        "\n",
        "print(\"\\n Distortion coefficient:\")\n",
        "print(distortion)\n",
        "\n",
        "print(\"\\n Rotation Vectors:\")\n",
        "print(r_vecs)"
      ]
    }
  ],
  "metadata": {
    "colab": {
      "provenance": []
    },
    "kernelspec": {
      "display_name": "Python 3 (ipykernel)",
      "language": "python",
      "name": "python3"
    },
    "language_info": {
      "codemirror_mode": {
        "name": "ipython",
        "version": 3
      },
      "file_extension": ".py",
      "mimetype": "text/x-python",
      "name": "python",
      "nbconvert_exporter": "python",
      "pygments_lexer": "ipython3",
      "version": "3.11.5"
    }
  },
  "nbformat": 4,
  "nbformat_minor": 0
}
