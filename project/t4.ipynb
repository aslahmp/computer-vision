{
 "cells": [
  {
   "cell_type": "code",
   "execution_count": 75,
   "metadata": {},
   "outputs": [],
   "source": [
    "import cv2\n",
    "import numpy as np\n",
    "import os"
   ]
  },
  {
   "cell_type": "code",
   "execution_count": 76,
   "metadata": {},
   "outputs": [],
   "source": [
    "sequence_folder = 'sequence/'\n",
    "frame_files = sorted([f for f in os.listdir(sequence_folder) if f.endswith('.jpg') or f.endswith('.png')])\n",
    "initial_bbox = (246, 208, 23, 23) \n",
    "\n",
    "initial_hypothesis = np.array([initial_bbox[1], initial_bbox[0], \n",
    "                                   initial_bbox[1] + initial_bbox[3], \n",
    "                                   initial_bbox[0] + initial_bbox[2]])\n",
    "frames = (cv2.imread(os.path.join(sequence_folder, f)) for f in frame_files)\n",
    "frame = list(frames)[0]"
   ]
  },
  {
   "cell_type": "code",
   "execution_count": 77,
   "metadata": {},
   "outputs": [],
   "source": [
    "top, left, bottom, right = initial_hypothesis"
   ]
  },
  {
   "cell_type": "code",
   "execution_count": 78,
   "metadata": {},
   "outputs": [],
   "source": [
    "object_mask = np.zeros(frame.shape[:2], dtype=bool)\n",
    "object_mask[top:bottom, left:right] = True\n"
   ]
  },
  {
   "cell_type": "code",
   "execution_count": 79,
   "metadata": {},
   "outputs": [],
   "source": [
    "padding = 20\n",
    "surrounding_top = max(0, top - padding)\n",
    "surrounding_left = max(0, left - padding)\n",
    "surrounding_bottom = min(frame.shape[0], bottom + padding)\n",
    "surrounding_right = min(frame.shape[1], right + padding)\n",
    "surrounding_mask = np.zeros(frame.shape[:2], dtype=bool)\n",
    "surrounding_mask[surrounding_top:surrounding_bottom, surrounding_left:surrounding_right] = True\n",
    "surrounding_mask[top:bottom, left:right] = False  # exclude the object region"
   ]
  },
  {
   "cell_type": "code",
   "execution_count": 80,
   "metadata": {},
   "outputs": [],
   "source": [
    "def compute_histogram(image, region_mask, bins):\n",
    "    histogram = np.zeros(bins)\n",
    "    # histogram = cv2.calcHist([image], [0,1,2], region_mask.astype(np.uint8), [bins,bins,bins], [0, 256,0, 256,0, 256,0, 256]).flatten()\n",
    "    print(histogram.shape)\n",
    "\n",
    "    for c in range(image.shape[-1]):  \n",
    "        hist =cv2.calcHist([image], [c], region_mask.astype(np.uint8), [bins], [0, 256]).flatten()\n",
    "        histogram += hist\n",
    "    return histogram\n",
    "    # histogram = cv2.calcHist([image], [0], region_mask.astype(np.uint8), [bins], [0, 256]).flatten()"
   ]
  },
  {
   "cell_type": "code",
   "execution_count": 81,
   "metadata": {},
   "outputs": [],
   "source": [
    "bins = 10"
   ]
  },
  {
   "cell_type": "code",
   "execution_count": 82,
   "metadata": {},
   "outputs": [
    {
     "name": "stdout",
     "output_type": "stream",
     "text": [
      "(10,)\n",
      "(10,)\n"
     ]
    }
   ],
   "source": [
    "H_O = compute_histogram(frame, object_mask, bins) \n",
    "H_S = compute_histogram(frame, surrounding_mask, bins)\n"
   ]
  },
  {
   "cell_type": "code",
   "execution_count": 83,
   "metadata": {},
   "outputs": [
    {
     "data": {
      "text/plain": [
       "(360, 640)"
      ]
     },
     "execution_count": 83,
     "metadata": {},
     "output_type": "execute_result"
    }
   ],
   "source": [
    "probabilities = np.zeros(frame.shape[:2])\n",
    "probabilities.shape"
   ]
  },
  {
   "cell_type": "code",
   "execution_count": 84,
   "metadata": {},
   "outputs": [],
   "source": [
    "\n",
    "def calculateProbabilities(I_x, H_O, H_S):\n",
    "\n",
    "    H_O_b = H_O[I_x] \n",
    "    H_S_b = H_S[I_x] \n",
    "\n",
    "    total_hist = H_O_b + H_S_b\n",
    "\n",
    "    return H_O_b / total_hist\n"
   ]
  },
  {
   "cell_type": "code",
   "execution_count": 85,
   "metadata": {},
   "outputs": [],
   "source": [
    "def get_bin_indices(pixel_values, bins, value_range=256):\n",
    "    return np.array([int((pixel_value * bins) // value_range) for pixel_value in pixel_values])\n"
   ]
  },
  {
   "cell_type": "code",
   "execution_count": 86,
   "metadata": {},
   "outputs": [],
   "source": [
    "for y in range(frame.shape[0]):\n",
    "    for x in range(frame.shape[1]):\n",
    "            pixel_values = frame[y, x]\n",
    "            bin_index = int(get_bin_indices(pixel_values, bins).mean())\n",
    "            if surrounding_mask[y, x] or object_mask[y, x]:\n",
    "                probabilities[y, x] = calculateProbabilities(bin_index, H_O, H_S)\n",
    "            else:\n",
    "                probabilities[y, x] = 0.5\n",
    "\n"
   ]
  },
  {
   "cell_type": "code",
   "execution_count": null,
   "metadata": {},
   "outputs": [],
   "source": [
    "cv2.rectangle(probabilities, (left, top), (right, bottom), (0, 255, 0), 2)\n",
    "cv2.imshow('Object Tracking', probabilities)\n",
    "key = cv2.waitKey(0) & 0xFF\n",
    "cv2.destroyAllWindows()"
   ]
  }
 ],
 "metadata": {
  "kernelspec": {
   "display_name": "base",
   "language": "python",
   "name": "python3"
  },
  "language_info": {
   "codemirror_mode": {
    "name": "ipython",
    "version": 3
   },
   "file_extension": ".py",
   "mimetype": "text/x-python",
   "name": "python",
   "nbconvert_exporter": "python",
   "pygments_lexer": "ipython3",
   "version": "3.11.5"
  }
 },
 "nbformat": 4,
 "nbformat_minor": 2
}
