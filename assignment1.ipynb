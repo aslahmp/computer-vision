{
 "cells": [
  {
   "cell_type": "markdown",
   "metadata": {},
   "source": [
    "1. Program for Basic Image Manipulation( Read, Conversion, Resize, Crop etc.)"
   ]
  },
  {
   "cell_type": "code",
   "execution_count": 28,
   "metadata": {},
   "outputs": [],
   "source": [
    "import cv2"
   ]
  },
  {
   "cell_type": "code",
   "execution_count": 29,
   "metadata": {},
   "outputs": [],
   "source": [
    "img = cv2.imread('/Users/aslahmp/Downloads/im.png')\n"
   ]
  },
  {
   "cell_type": "code",
   "execution_count": 3,
   "metadata": {},
   "outputs": [
    {
     "data": {
      "text/plain": [
       "13"
      ]
     },
     "execution_count": 3,
     "metadata": {},
     "output_type": "execute_result"
    }
   ],
   "source": [
    "cv2.imshow('Original Image', img)\n",
    "cv2.waitKey(0)\n"
   ]
  },
  {
   "cell_type": "code",
   "execution_count": 3,
   "metadata": {},
   "outputs": [],
   "source": [
    "gray_img = cv2.cvtColor(img, cv2.COLOR_BGR2GRAY)\n",
    "cv2.imshow('Grayscale Image', gray_img)\n",
    "cv2.waitKey(0)\n",
    "cv2.destroyAllWindows()\n",
    "\n"
   ]
  },
  {
   "cell_type": "code",
   "execution_count": 6,
   "metadata": {},
   "outputs": [
    {
     "data": {
      "text/plain": [
       "13"
      ]
     },
     "execution_count": 6,
     "metadata": {},
     "output_type": "execute_result"
    }
   ],
   "source": [
    "resized_img = cv2.resize(img, (300, 300))\n",
    "cv2.imshow('Resized Image', resized_img)\n",
    "cv2.waitKey(0)\n"
   ]
  },
  {
   "cell_type": "code",
   "execution_count": 11,
   "metadata": {},
   "outputs": [
    {
     "data": {
      "text/plain": [
       "13"
      ]
     },
     "execution_count": 11,
     "metadata": {},
     "output_type": "execute_result"
    }
   ],
   "source": [
    "cropped_img = img[100:400, 100:400]\n",
    "cv2.imshow('Cropped Image', cropped_img)\n",
    "cv2.waitKey(0)\n"
   ]
  },
  {
   "cell_type": "code",
   "execution_count": 12,
   "metadata": {},
   "outputs": [],
   "source": [
    "cv2.destroyAllWindows()"
   ]
  },
  {
   "cell_type": "markdown",
   "metadata": {},
   "source": [
    "2. Program to Convert World Coordinates to Pixel Coordinates"
   ]
  },
  {
   "cell_type": "code",
   "execution_count": 23,
   "metadata": {},
   "outputs": [],
   "source": [
    "import numpy as np"
   ]
  },
  {
   "cell_type": "code",
   "execution_count": 24,
   "metadata": {},
   "outputs": [
    {
     "name": "stdout",
     "output_type": "stream",
     "text": [
      "World Coordinate: [[[0.5 0.5]]]\n",
      "Pixel Coordinate: [[[150. 150.]]]\n"
     ]
    }
   ],
   "source": [
    "\n",
    "\n",
    "world_points = np.array([\n",
    "    [0, 0],\n",
    "    [1, 0],\n",
    "    [1, 1],\n",
    "    [0, 1]\n",
    "], dtype=np.float32)\n",
    "\n",
    "\n",
    "pixel_points = np.array([\n",
    "    [100, 100],\n",
    "    [200, 100],\n",
    "    [200, 200],\n",
    "    [100, 200]\n",
    "], dtype=np.float32)\n",
    "transformation_matrix = cv2.getPerspectiveTransform(world_points, pixel_points)\n",
    "world_point = np.array([world_point])  \n",
    "pixel_point = cv2.perspectiveTransform(world_point, transformation_matrix)\n",
    "print(\"World Coordinate:\", world_point)\n",
    "print(\"Pixel Coordinate:\", pixel_point)\n"
   ]
  },
  {
   "cell_type": "markdown",
   "metadata": {},
   "source": [
    "3. Program for Basic Transformation( Translation, rotation, Scaling)"
   ]
  },
  {
   "cell_type": "markdown",
   "metadata": {},
   "source": [
    "Translation"
   ]
  },
  {
   "cell_type": "code",
   "execution_count": 30,
   "metadata": {},
   "outputs": [],
   "source": [
    "tx = 50  \n",
    "ty = 100\n",
    "translation_matrix = np.float32([\n",
    "    [1, 0, tx],\n",
    "    [0, 1, ty]\n",
    "])\n",
    "height, width = img.shape[:2]"
   ]
  },
  {
   "cell_type": "code",
   "execution_count": 26,
   "metadata": {},
   "outputs": [
    {
     "data": {
      "text/plain": [
       "(512, 512)"
      ]
     },
     "execution_count": 26,
     "metadata": {},
     "output_type": "execute_result"
    }
   ],
   "source": [
    "height, width"
   ]
  },
  {
   "cell_type": "code",
   "execution_count": 33,
   "metadata": {},
   "outputs": [],
   "source": [
    "translated_image = cv2.warpAffine(img, translation_matrix, (width, height))\n",
    "cv2.imshow('Original Image', img)\n",
    "cv2.waitKey(0)\n",
    "cv2.imshow('translated Image', translated_image)\n",
    "cv2.waitKey(0)\n",
    "cv2.destroyAllWindows()"
   ]
  },
  {
   "cell_type": "markdown",
   "metadata": {},
   "source": [
    "Rotation"
   ]
  },
  {
   "cell_type": "code",
   "execution_count": 35,
   "metadata": {},
   "outputs": [
    {
     "data": {
      "text/plain": [
       "13"
      ]
     },
     "execution_count": 35,
     "metadata": {},
     "output_type": "execute_result"
    }
   ],
   "source": [
    "(height, width) = img.shape[:2]\n",
    "\n",
    "\n",
    "center = (width // 2, height // 2)\n",
    "\n",
    "\n",
    "angle = 30 \n",
    "\n",
    "\n",
    "scale = 1.0\n",
    "\n",
    "\n",
    "rotation_matrix = cv2.getRotationMatrix2D(center, angle, scale)\n",
    "\n",
    "\n",
    "rotated_image = cv2.warpAffine(img, rotation_matrix, (width, height))\n",
    "\n",
    "\n",
    "cv2.imshow('rotated_image', rotated_image)\n",
    "cv2.waitKey(0)"
   ]
  },
  {
   "cell_type": "code",
   "execution_count": 36,
   "metadata": {},
   "outputs": [
    {
     "data": {
      "text/plain": [
       "13"
      ]
     },
     "execution_count": 36,
     "metadata": {},
     "output_type": "execute_result"
    }
   ],
   "source": [
    "# Define the new dimensions\n",
    "new_width = 300\n",
    "new_height = 200\n",
    "\n",
    "# Resize the image\n",
    "resized_image = cv2.resize(img, (new_width, new_height))\n",
    "\n",
    "# Display the original and resized images\n",
    "cv2.imshow('resized_image', resized_image)\n",
    "cv2.waitKey(0)"
   ]
  },
  {
   "cell_type": "markdown",
   "metadata": {},
   "source": [
    "4. Program for Affine, Similarity and Euclidean transformation."
   ]
  },
  {
   "cell_type": "code",
   "execution_count": 37,
   "metadata": {},
   "outputs": [
    {
     "data": {
      "text/plain": [
       "13"
      ]
     },
     "execution_count": 37,
     "metadata": {},
     "output_type": "execute_result"
    }
   ],
   "source": [
    "# Get the dimensions of the image\n",
    "rows, cols, ch = img.shape\n",
    "\n",
    "# Define the points in the source image\n",
    "# Points should be chosen such that they form a triangle\n",
    "src_points = np.float32([[50, 50], [200, 50], [50, 200]])\n",
    "\n",
    "# Define the points in the destination image\n",
    "# Points should be chosen to correspond to the source points\n",
    "dst_points = np.float32([[10, 100], [200, 50], [100, 250]])\n",
    "\n",
    "# Calculate the affine transformation matrix\n",
    "affine_matrix = cv2.getAffineTransform(src_points, dst_points)\n",
    "\n",
    "# Apply the affine transformation to the image\n",
    "transformed_image = cv2.warpAffine(img, affine_matrix, (cols, rows))\n",
    "\n",
    "# Display the original and transformed images\n",
    "cv2.imshow('transformed_image', transformed_image)\n",
    "cv2.waitKey(0)"
   ]
  },
  {
   "cell_type": "code",
   "execution_count": 38,
   "metadata": {},
   "outputs": [
    {
     "data": {
      "text/plain": [
       "13"
      ]
     },
     "execution_count": 38,
     "metadata": {},
     "output_type": "execute_result"
    }
   ],
   "source": [
    "\n",
    "# Get the dimensions of the image\n",
    "rows, cols, ch = img.shape\n",
    "\n",
    "# Define the points in the source image\n",
    "# Points should be chosen such that they form a triangle\n",
    "src_points = np.float32([[50, 50], [200, 50], [50, 200]])\n",
    "\n",
    "# Define the points in the destination image\n",
    "# Points should be chosen to correspond to the source points\n",
    "dst_points = np.float32([[10, 100], [200, 50], [100, 250]])\n",
    "\n",
    "# Calculate the similarity transformation matrix\n",
    "similarity_matrix, inliers = cv2.estimateAffinePartial2D(src_points, dst_points)\n",
    "\n",
    "# Apply the similarity transformation to the image\n",
    "transformed_image = cv2.warpAffine(img, similarity_matrix, (cols, rows))\n",
    "\n",
    "# Display the original and transformed images\n",
    "cv2.imshow('transformed_image', transformed_image)\n",
    "cv2.waitKey(0)"
   ]
  },
  {
   "cell_type": "code",
   "execution_count": 39,
   "metadata": {},
   "outputs": [
    {
     "data": {
      "text/plain": [
       "13"
      ]
     },
     "execution_count": 39,
     "metadata": {},
     "output_type": "execute_result"
    },
    {
     "ename": "",
     "evalue": "",
     "output_type": "error",
     "traceback": [
      "\u001b[1;31mThe Kernel crashed while executing code in the current cell or a previous cell. \n",
      "\u001b[1;31mPlease review the code in the cell(s) to identify a possible cause of the failure. \n",
      "\u001b[1;31mClick <a href='https://aka.ms/vscodeJupyterKernelCrash'>here</a> for more info. \n",
      "\u001b[1;31mView Jupyter <a href='command:jupyter.viewOutput'>log</a> for further details."
     ]
    }
   ],
   "source": [
    "# Get the dimensions of the image\n",
    "rows, cols, ch = img.shape\n",
    "\n",
    "# Define the points in the source image\n",
    "src_points = np.float32([[50, 50], [200, 50], [50, 200]])\n",
    "\n",
    "# Define the points in the destination image\n",
    "dst_points = np.float32([[70, 100], [220, 80], [70, 250]])\n",
    "\n",
    "# Calculate the similarity transformation matrix\n",
    "similarity_matrix, _ = cv2.estimateAffinePartial2D(src_points, dst_points)\n",
    "\n",
    "# Apply the similarity transformation to the image\n",
    "transformed_image = cv2.warpAffine(img, similarity_matrix, (cols, rows))\n",
    "\n",
    "# Display the original and transformed images\n",
    "cv2.imshow('transformed_image', transformed_image)\n",
    "cv2.waitKey(0)\n"
   ]
  }
 ],
 "metadata": {
  "kernelspec": {
   "display_name": "Python 3 (ipykernel)",
   "language": "python",
   "name": "python3"
  }
 },
 "nbformat": 4,
 "nbformat_minor": 2
}
