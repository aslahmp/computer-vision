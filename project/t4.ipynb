{
 "cells": [
  {
   "cell_type": "code",
   "execution_count": 85,
   "metadata": {},
   "outputs": [],
   "source": [
    "import cv2\n",
    "import numpy as np\n",
    "import os"
   ]
  },
  {
   "cell_type": "code",
   "execution_count": 86,
   "metadata": {},
   "outputs": [],
   "source": [
    "sequence_folder = 'sequence/'\n",
    "frame_files = sorted([f for f in os.listdir(sequence_folder) if f.endswith('.jpg') or f.endswith('.png')])\n",
    "initial_bbox = (246, 208, 23, 23) \n",
    "\n",
    "initial_hypothesis = np.array([initial_bbox[1], initial_bbox[0], \n",
    "                                   initial_bbox[1] + initial_bbox[3], \n",
    "                                   initial_bbox[0] + initial_bbox[2]])\n",
    "frames = (cv2.imread(os.path.join(sequence_folder, f)) for f in frame_files)\n",
    "frame = list(frames)[0]"
   ]
  },
  {
   "cell_type": "code",
   "execution_count": 87,
   "metadata": {},
   "outputs": [],
   "source": [
    "top, left, bottom, right = initial_hypothesis"
   ]
  },
  {
   "cell_type": "code",
   "execution_count": 88,
   "metadata": {},
   "outputs": [],
   "source": [
    "object_mask = np.zeros(frame.shape[:2], dtype=bool)\n",
    "object_mask[top:bottom, left:right] = True\n"
   ]
  },
  {
   "cell_type": "code",
   "execution_count": 89,
   "metadata": {},
   "outputs": [],
   "source": [
    "padding = 20\n",
    "surrounding_top = max(0, top - padding)\n",
    "surrounding_left = max(0, left - padding)\n",
    "surrounding_bottom = min(frame.shape[0], bottom + padding)\n",
    "surrounding_right = min(frame.shape[1], right + padding)\n",
    "surrounding_mask = np.zeros(frame.shape[:2], dtype=bool)\n",
    "surrounding_mask[surrounding_top:surrounding_bottom, surrounding_left:surrounding_right] = True\n",
    "surrounding_mask[top:bottom, left:right] = False  # Exclude the object region"
   ]
  },
  {
   "cell_type": "code",
   "execution_count": null,
   "metadata": {},
   "outputs": [],
   "source": [
    "def compute_histogram(image, region_mask, bins):\n",
    "    # histogram = np.zeros(bins)\n",
    "    histogram = cv2.calcHist([image], [0], region_mask.astype(np.uint8), [bins], [0, 256]).flatten()\n",
    "    print(histogram.shape)\n",
    "\n",
    "    # for c in range(image.shape[-1]):  \n",
    "    #     pixel_values = image[..., c][region_mask] \n",
    "    #     hist, _ = np.histogram(pixel_values, bins=bins, range=(0, 256))\n",
    "    #     histogram += hist\n",
    "    return histogram\n",
    "    # histogram = cv2.calcHist([image], [0], region_mask.astype(np.uint8), [bins], [0, 256]).flatten()"
   ]
  },
  {
   "cell_type": "code",
   "execution_count": 91,
   "metadata": {},
   "outputs": [],
   "source": [
    "bins = 250"
   ]
  },
  {
   "cell_type": "code",
   "execution_count": 92,
   "metadata": {},
   "outputs": [
    {
     "name": "stdout",
     "output_type": "stream",
     "text": [
      "(250,)\n",
      "(250,)\n"
     ]
    }
   ],
   "source": [
    "H_O = compute_histogram(frame, object_mask, bins)\n",
    "H_S = compute_histogram(frame, surrounding_mask, bins)\n"
   ]
  },
  {
   "cell_type": "code",
   "execution_count": 93,
   "metadata": {},
   "outputs": [
    {
     "data": {
      "text/plain": [
       "(360, 640)"
      ]
     },
     "execution_count": 93,
     "metadata": {},
     "output_type": "execute_result"
    }
   ],
   "source": [
    "probabilities = np.zeros(frame.shape[:2])\n",
    "probabilities.shape"
   ]
  },
  {
   "cell_type": "code",
   "execution_count": 94,
   "metadata": {},
   "outputs": [],
   "source": [
    "\n",
    "def calculateProbabilities(I_x, H_O, H_S):\n",
    "\n",
    "    H_O_b = H_O[I_x] \n",
    "    H_S_b = H_S[I_x] \n",
    "\n",
    "    total_hist = H_O_b + H_S_b\n",
    "\n",
    "    return H_O_b / total_hist\n"
   ]
  },
  {
   "cell_type": "code",
   "execution_count": 95,
   "metadata": {},
   "outputs": [
    {
     "name": "stderr",
     "output_type": "stream",
     "text": [
      "/var/folders/y9/2rxtmq5d4rs75j3fynzjqhxh0000gn/T/ipykernel_28784/2461442818.py:8: RuntimeWarning: invalid value encountered in scalar divide\n",
      "  return H_O_b / total_hist\n"
     ]
    }
   ],
   "source": [
    "for y in range(frame.shape[0]):\n",
    "    for x in range(frame.shape[1]):\n",
    "            pixel_values = frame[y, x]\n",
    "            bin_index = int((pixel_values.mean() / 256) * bins)  # Map pixel to bin\n",
    "            \n",
    "            if surrounding_mask[y, x] or object_mask[y, x]:\n",
    "                probabilities[y, x] = calculateProbabilities(bin_index, H_O, H_S)\n",
    "            else:\n",
    "                probabilities[y, x] = 0.5\n",
    "\n"
   ]
  },
  {
   "cell_type": "code",
   "execution_count": 96,
   "metadata": {},
   "outputs": [
    {
     "name": "stderr",
     "output_type": "stream",
     "text": [
      "/var/folders/y9/2rxtmq5d4rs75j3fynzjqhxh0000gn/T/ipykernel_28784/2100857108.py:3: RuntimeWarning: invalid value encountered in cast\n",
      "  color_map = cv2.applyColorMap((probabilities * 255).astype(np.uint8), cv2.COLORMAP_RAINBOW)\n"
     ]
    }
   ],
   "source": [
    "cv2.rectangle(frame, (left, top), (right, bottom), (0, 255, 0), 2)\n",
    "# object_mask_display = (object_mask * 205).astype(np.uint8)\n",
    "color_map = cv2.applyColorMap((probabilities * 255).astype(np.uint8), cv2.COLORMAP_RAINBOW)\n",
    "vis_likelihood = cv2.addWeighted(frame, 0.1, color_map, 0.9, 0)\n",
    "vis = np.hstack((frame, vis_likelihood))\n",
    "cv2.imshow('Object Tracking', probabilities)\n",
    "key = cv2.waitKey(0) & 0xFF\n",
    "cv2.destroyAllWindows()"
   ]
  }
 ],
 "metadata": {
  "kernelspec": {
   "display_name": "base",
   "language": "python",
   "name": "python3"
  },
  "language_info": {
   "codemirror_mode": {
    "name": "ipython",
    "version": 3
   },
   "file_extension": ".py",
   "mimetype": "text/x-python",
   "name": "python",
   "nbconvert_exporter": "python",
   "pygments_lexer": "ipython3",
   "version": "3.11.5"
  }
 },
 "nbformat": 4,
 "nbformat_minor": 2
}
