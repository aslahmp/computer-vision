{
 "cells": [
  {
   "cell_type": "code",
   "execution_count": 1,
   "metadata": {},
   "outputs": [],
   "source": [
    "import cv2\n",
    "import numpy as np\n",
    "\n",
    "from tracker import DAT_TRACKER\n",
    "import os"
   ]
  },
  {
   "cell_type": "code",
   "execution_count": 2,
   "metadata": {},
   "outputs": [],
   "source": [
    "\n",
    "class DatCfg:\n",
    "    def __init__(self):\n",
    "        self.show_figures = False\n",
    "        self.img_scale_target_diagonal = 75\n",
    "        self.search_win_padding = 2.0\n",
    "        self.surr_win_factor = 1.9\n",
    "        self.color_space = 1  # 1: RGB, 2: LAB, 3: HSV, 4: GRAY\n",
    "        self.num_bins = 16\n",
    "        self.bin_mapping = self.get_bin_mapping(self.num_bins)  # Initialize bin mapping\n",
    "        self.prob_lut_update_rate = 0.05\n",
    "        self.distractor_aware = True\n",
    "        self.adapt_thresh_prob_bins = np.linspace(0, 1, num=21)  # 0:0.05 : 1\n",
    "        self.motion_estimation_history_size = 5\n",
    "        self.nms_scale = 1\n",
    "        self.nms_overlap = 0.9\n",
    "        self.nms_score_factor = 0.5\n",
    "        self.nms_include_center_vote = True\n",
    "\n",
    "    def get_bin_mapping(self, num_bins):\n",
    "        # Replace this with the actual bin mapping logic\n",
    "        # For example, it could create a 1D array of size num_bins\n",
    "        return np.array([255 - i for i in range(256)], dtype=np.uint8)\n",
    "\n",
    "# Example usage\n",
    "cfg = DatCfg()\n",
    "cfg_dict = vars(cfg)"
   ]
  },
  {
   "cell_type": "code",
   "execution_count": 3,
   "metadata": {},
   "outputs": [
    {
     "name": "stdout",
     "output_type": "stream",
     "text": [
      "Color Space (Dictionary Indexing): 1\n"
     ]
    }
   ],
   "source": [
    "cfg_dict = vars(cfg)\n",
    "print(\"Color Space (Dictionary Indexing):\", cfg_dict['color_space'])"
   ]
  },
  {
   "cell_type": "code",
   "execution_count": 4,
   "metadata": {},
   "outputs": [
    {
     "name": "stdout",
     "output_type": "stream",
     "text": [
      "(16,)\n"
     ]
    },
    {
     "ename": "ValueError",
     "evalue": "bin_mapping must be a 1D array with 256 elements",
     "output_type": "error",
     "traceback": [
      "\u001b[0;31m---------------------------------------------------------------------------\u001b[0m",
      "\u001b[0;31mValueError\u001b[0m                                Traceback (most recent call last)",
      "Cell \u001b[0;32mIn[4], line 80\u001b[0m\n\u001b[1;32m     77\u001b[0m     cv2\u001b[38;5;241m.\u001b[39mdestroyAllWindows()\n\u001b[1;32m     79\u001b[0m \u001b[38;5;28;01mif\u001b[39;00m \u001b[38;5;18m__name__\u001b[39m \u001b[38;5;241m==\u001b[39m \u001b[38;5;124m\"\u001b[39m\u001b[38;5;124m__main__\u001b[39m\u001b[38;5;124m\"\u001b[39m:\n\u001b[0;32m---> 80\u001b[0m     main()\n",
      "Cell \u001b[0;32mIn[4], line 60\u001b[0m, in \u001b[0;36mmain\u001b[0;34m()\u001b[0m\n\u001b[1;32m     58\u001b[0m     dat\u001b[38;5;241m.\u001b[39mtracker_dat_initialize(image, location)\n\u001b[1;32m     59\u001b[0m \u001b[38;5;28;01melse\u001b[39;00m:\n\u001b[0;32m---> 60\u001b[0m     location \u001b[38;5;241m=\u001b[39m dat\u001b[38;5;241m.\u001b[39mtracker_dat_update(image)\n\u001b[1;32m     62\u001b[0m toc \u001b[38;5;241m=\u001b[39m cv2\u001b[38;5;241m.\u001b[39mgetTickCount() \u001b[38;5;241m-\u001b[39m tic\n\u001b[1;32m     63\u001b[0m time_total \u001b[38;5;241m+\u001b[39m\u001b[38;5;241m=\u001b[39m toc\n",
      "File \u001b[0;32m~/Documents/college/class/cv/project/tracker.py:191\u001b[0m, in \u001b[0;36mDAT_TRACKER.tracker_dat_update\u001b[0;34m(self, I)\u001b[0m\n\u001b[1;32m    188\u001b[0m search_win, padded_search_win \u001b[38;5;241m=\u001b[39m \u001b[38;5;28mself\u001b[39m\u001b[38;5;241m.\u001b[39mget_subwindow_masked(img, target_pos, search_sz)\n\u001b[1;32m    190\u001b[0m \u001b[38;5;66;03m# Apply probability LUT\u001b[39;00m\n\u001b[0;32m--> 191\u001b[0m pm_search \u001b[38;5;241m=\u001b[39m \u001b[38;5;28mself\u001b[39m\u001b[38;5;241m.\u001b[39mget_foreground_prob(search_win, \u001b[38;5;28mself\u001b[39m\u001b[38;5;241m.\u001b[39mprob_lut_, \u001b[38;5;28mself\u001b[39m\u001b[38;5;241m.\u001b[39mcfg[\u001b[38;5;124m'\u001b[39m\u001b[38;5;124mbin_mapping\u001b[39m\u001b[38;5;124m'\u001b[39m])\n\u001b[1;32m    192\u001b[0m pm_search_dist \u001b[38;5;241m=\u001b[39m \u001b[38;5;28;01mNone\u001b[39;00m\n\u001b[1;32m    194\u001b[0m \u001b[38;5;28;01mif\u001b[39;00m \u001b[38;5;28mself\u001b[39m\u001b[38;5;241m.\u001b[39mcfg[\u001b[38;5;124m'\u001b[39m\u001b[38;5;124mdistractor_aware\u001b[39m\u001b[38;5;124m'\u001b[39m]:\n",
      "File \u001b[0;32m~/Documents/college/class/cv/project/tracker.py:115\u001b[0m, in \u001b[0;36mDAT_TRACKER.get_foreground_prob\u001b[0;34m(self, frame, prob_lut, bin_mapping)\u001b[0m\n\u001b[1;32m    113\u001b[0m \u001b[38;5;28mprint\u001b[39m(bin_mapping\u001b[38;5;241m.\u001b[39mshape)\n\u001b[1;32m    114\u001b[0m \u001b[38;5;28;01mif\u001b[39;00m bin_mapping\u001b[38;5;241m.\u001b[39msize \u001b[38;5;241m!=\u001b[39m \u001b[38;5;241m256\u001b[39m \u001b[38;5;129;01mor\u001b[39;00m bin_mapping\u001b[38;5;241m.\u001b[39mndim \u001b[38;5;241m!=\u001b[39m \u001b[38;5;241m1\u001b[39m:\n\u001b[0;32m--> 115\u001b[0m     \u001b[38;5;28;01mraise\u001b[39;00m \u001b[38;5;167;01mValueError\u001b[39;00m(\u001b[38;5;124m\"\u001b[39m\u001b[38;5;124mbin_mapping must be a 1D array with 256 elements\u001b[39m\u001b[38;5;124m\"\u001b[39m)\n\u001b[1;32m    117\u001b[0m \u001b[38;5;66;03m# Apply bin mapping to each channel using cv2.LUT\u001b[39;00m\n\u001b[1;32m    118\u001b[0m frame_bin \u001b[38;5;241m=\u001b[39m np\u001b[38;5;241m.\u001b[39mzeros_like(frame)\n",
      "\u001b[0;31mValueError\u001b[0m: bin_mapping must be a 1D array with 256 elements"
     ]
    }
   ],
   "source": [
    "\n",
    "\n",
    "import glob\n",
    "def poly2rect(polygon):\n",
    "    \"\"\"Convert a polygon (4 points) to a bounding rectangle.\"\"\"\n",
    "    # Get the bounding box of the polygon\n",
    "    x, y, w, h = cv2.boundingRect(np.array(polygon, dtype=np.float32))\n",
    "    return (x, y, w, h)\n",
    "\n",
    "def get_ground_truth(txt_file):\n",
    "    rects = []\n",
    "    \n",
    "    try:\n",
    "        with open(txt_file, 'r') as gt:\n",
    "            for line in gt:\n",
    "                # Replace commas with spaces and split the line into components\n",
    "                line = line.replace(',', ' ').strip()\n",
    "                coords = list(map(float, line.split()))\n",
    "                \n",
    "                # Check if there are exactly 8 coordinates (4 points)\n",
    "                if len(coords) == 8:\n",
    "                    polygon = [\n",
    "                        (coords[0], coords[1]),\n",
    "                        (coords[2], coords[3]),\n",
    "                        (coords[4], coords[5]),\n",
    "                        (coords[6], coords[7])\n",
    "                    ]\n",
    "                    rect = poly2rect(polygon)  # Get the bounding rect\n",
    "                    rects.append(rect)  # Append to the list\n",
    "                else:\n",
    "                    print(f\"Line does not contain 8 coordinates: {line}\")\n",
    "\n",
    "    except IOError:\n",
    "        print(f\"Ground truth file {txt_file} cannot be read\")\n",
    "\n",
    "    return rects\n",
    "\n",
    "def main():\n",
    "    video_base_path = \"\"\n",
    "    pattern_jpg = \"sequence\"\n",
    "    txt_base_path = \"sequence/groundtruth.txt\"\n",
    "    images = glob.glob(os.path.join(pattern_jpg, '*.jpg'))\n",
    "    image_files = sorted(images)\n",
    "    if len(image_files) == 0:\n",
    "        print(\"No image files found\")\n",
    "        return\n",
    "    \n",
    "    groundtruth_rect = get_ground_truth(txt_base_path)\n",
    "    \n",
    "    dat = DAT_TRACKER(cfg_dict)\n",
    "    location = groundtruth_rect[0]\n",
    "    result_rects = []\n",
    "    time_total = 0\n",
    "    \n",
    "    for frame, image_file in enumerate(image_files):\n",
    "        image = cv2.imread(image_file)\n",
    "        tic = cv2.getTickCount()\n",
    "        \n",
    "        if frame == 0:\n",
    "            dat.tracker_dat_initialize(image, location)\n",
    "        else:\n",
    "            location = dat.tracker_dat_update(image)\n",
    "        \n",
    "        toc = cv2.getTickCount() - tic\n",
    "        time_total += toc\n",
    "        result_rects.append(location)\n",
    "        \n",
    "        # Visualization\n",
    "        cv2.putText(image, str(frame + 1), (20, 40), cv2.FONT_HERSHEY_SIMPLEX, 1, (0, 255, 255), 2)\n",
    "        cv2.rectangle(image, tuple(groundtruth_rect[frame]), (0, 255, 0), 2)\n",
    "        cv2.rectangle(image, tuple(location), (0, 128, 255), 2)\n",
    "        cv2.imshow(\"DAT\", image)\n",
    "\n",
    "        if cv2.waitKey(1) & 0xFF in [27, ord('q'), ord('Q')]:\n",
    "            break\n",
    "    \n",
    "    fps = len(result_rects) / (time_total / cv2.getTickFrequency())\n",
    "    print(f\"FPS: {fps:.2f}\")\n",
    "    cv2.destroyAllWindows()\n",
    "\n",
    "if __name__ == \"__main__\":\n",
    "    main()\n"
   ]
  }
 ],
 "metadata": {
  "kernelspec": {
   "display_name": "base",
   "language": "python",
   "name": "python3"
  },
  "language_info": {
   "codemirror_mode": {
    "name": "ipython",
    "version": 3
   },
   "file_extension": ".py",
   "mimetype": "text/x-python",
   "name": "python",
   "nbconvert_exporter": "python",
   "pygments_lexer": "ipython3",
   "version": "3.11.5"
  }
 },
 "nbformat": 4,
 "nbformat_minor": 2
}
