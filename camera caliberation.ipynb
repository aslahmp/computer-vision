{
  "cells": [
    {
      "cell_type": "code",
      "execution_count": 11,
      "metadata": {
        "id": "Jo809IOoxh6t"
      },
      "outputs": [],
      "source": [
        "import cv2\n",
        "import numpy as np\n",
        "import os\n",
        "import glob\n"
      ]
    },
    {
      "cell_type": "code",
      "execution_count": 12,
      "metadata": {
        "id": "62LRsL0Yx1r4"
      },
      "outputs": [],
      "source": [
        "CHECKERBOARD = (6, 9)\n",
        "criteria = (cv2.TERM_CRITERIA_EPS +\n",
        "            cv2.TERM_CRITERIA_MAX_ITER, 30, 0.001)\n",
        "threedpoints = []\n",
        "twodpoints = []\n",
        "objectp3d = np.zeros((1, CHECKERBOARD[0]\n",
        "                      * CHECKERBOARD[1],\n",
        "                      3), np.float32)\n",
        "objectp3d[0, :, :2] = np.mgrid[0:CHECKERBOARD[0],\n",
        "                               0:CHECKERBOARD[1]].T.reshape(-1, 2)\n",
        "prev_img_shape = None\n"
      ]
    },
    {
      "cell_type": "markdown",
      "metadata": {},
      "source": [
        "using laptop camera "
      ]
    },
    {
      "cell_type": "code",
      "execution_count": 13,
      "metadata": {
        "id": "uGDfJZM_yF7o"
      },
      "outputs": [],
      "source": [
        "folder_path = 'attachments'\n",
        "images = glob.glob(os.path.join(folder_path, '*.jpg'))"
      ]
    },
    {
      "cell_type": "code",
      "execution_count": 16,
      "metadata": {
        "id": "3DgfCYFIyk1P"
      },
      "outputs": [
        {
          "name": "stdout",
          "output_type": "stream",
          "text": [
            "True attachments/WIN_20240805_17_01_15_Pro.jpg\n",
            "True attachments/WIN_20240805_17_01_41_Pro.jpg\n",
            "True attachments/WIN_20240805_17_01_33_Pro.jpg\n",
            "True attachments/WIN_20240805_17_01_40_Pro.jpg\n",
            "True attachments/WIN_20240805_17_01_32_Pro.jpg\n",
            "True attachments/WIN_20240805_17_01_30_Pro.jpg\n",
            "True attachments/WIN_20240805_17_01_20_Pro.jpg\n",
            "True attachments/WIN_20240805_17_01_29_Pro.jpg\n",
            "True attachments/WIN_20240805_17_01_16_Pro.jpg\n",
            "True attachments/WIN_20240805_17_01_38_Pro.jpg\n",
            "True attachments/WIN_20240805_17_01_28_Pro.jpg\n",
            "True attachments/WIN_20240805_17_01_35_Pro (2).jpg\n",
            "True attachments/WIN_20240805_17_01_17_Pro.jpg\n",
            "True attachments/WIN_20240805_17_01_21_Pro.jpg\n",
            "True attachments/WIN_20240805_17_01_31_Pro.jpg\n",
            "True attachments/WIN_20240805_17_01_43_Pro.jpg\n",
            "True attachments/WIN_20240805_17_01_34_Pro.jpg\n",
            "True attachments/WIN_20240805_17_01_24_Pro.jpg\n",
            "True attachments/WIN_20240805_17_01_12_Pro.jpg\n",
            "True attachments/WIN_20240805_17_01_19_Pro (2).jpg\n",
            "True attachments/WIN_20240805_17_01_13_Pro.jpg\n",
            "True attachments/WIN_20240805_17_01_25_Pro.jpg\n",
            "True attachments/WIN_20240805_17_01_35_Pro.jpg\n",
            "True attachments/WIN_20240805_17_01_18_Pro.jpg\n",
            "True attachments/WIN_20240805_17_01_27_Pro.jpg\n",
            "True attachments/WIN_20240805_17_01_19_Pro.jpg\n",
            "True attachments/WIN_20240805_17_01_44_Pro.jpg\n",
            "True attachments/WIN_20240805_17_01_26_Pro.jpg\n",
            "True attachments/WIN_20240805_17_01_36_Pro.jpg\n"
          ]
        }
      ],
      "source": [
        "for filename in images:\n",
        "    image = cv2.imread(filename)\n",
        "    grayColor = cv2.cvtColor(image, cv2.COLOR_BGR2GRAY)\n",
        "\n",
        "    ret, corners = cv2.findChessboardCorners(\n",
        "                    grayColor, CHECKERBOARD,\n",
        "                    cv2.CALIB_CB_ADAPTIVE_THRESH\n",
        "                    + cv2.CALIB_CB_FAST_CHECK +\n",
        "                    cv2.CALIB_CB_NORMALIZE_IMAGE)\n",
        "    print(ret,filename)\n",
        "    if ret == True:\n",
        "        threedpoints.append(objectp3d)\n",
        "        corners2 = cv2.cornerSubPix(\n",
        "            grayColor, corners, (11, 11), (-1, -1), criteria)\n",
        "        twodpoints.append(corners2)\n",
        "        image = cv2.drawChessboardCorners(image,\n",
        "                                          CHECKERBOARD,\n",
        "                                          corners2, ret)"
      ]
    },
    {
      "cell_type": "code",
      "execution_count": null,
      "metadata": {},
      "outputs": [],
      "source": []
    },
    {
      "cell_type": "code",
      "execution_count": 18,
      "metadata": {
        "colab": {
          "base_uri": "https://localhost:8080/"
        },
        "id": "Ta5LgFrrzze2",
        "outputId": "9c3e0f2f-bc2b-4f92-e04f-7c2febe0c0b5"
      },
      "outputs": [
        {
          "name": "stdout",
          "output_type": "stream",
          "text": [
            " Camera matrix:\n",
            "[[828.14368393   0.         623.07226705]\n",
            " [  0.         828.89319167 346.68051616]\n",
            " [  0.           0.           1.        ]]\n",
            "\n",
            " Distortion coefficient:\n",
            "[[-0.03430804  0.5370896  -0.01778048  0.00350512 -1.702055  ]]\n"
          ]
        }
      ],
      "source": [
        "h, w = image.shape[:2]\n",
        "\n",
        "ret, matrix, distortion, r_vecs, t_vecs = cv2.calibrateCamera(\n",
        "    threedpoints, twodpoints, grayColor.shape[::-1], None, None)\n",
        "\n",
        "print(\" Camera matrix:\")\n",
        "print(matrix)\n",
        "\n",
        "print(\"\\n Distortion coefficient:\")\n",
        "print(distortion)\n"
      ]
    },
    {
      "cell_type": "code",
      "execution_count": 19,
      "metadata": {},
      "outputs": [
        {
          "name": "stdout",
          "output_type": "stream",
          "text": [
            "\n",
            " Rotation Vectors:\n",
            "(array([[0.05410936],\n",
            "       [0.22640725],\n",
            "       [3.130987  ]]), array([[1.67767501e-03],\n",
            "       [3.27002701e-01],\n",
            "       [3.02510658e+00]]), array([[0.02010002],\n",
            "       [0.25411042],\n",
            "       [3.1142806 ]]), array([[-0.07720138],\n",
            "       [ 0.30877784],\n",
            "       [ 3.12348201]]), array([[0.0110551 ],\n",
            "       [0.24467763],\n",
            "       [3.1161125 ]]), array([[-0.0586311 ],\n",
            "       [-0.29403292],\n",
            "       [-3.10499218]]), array([[ 0.03508206],\n",
            "       [-0.34334694],\n",
            "       [-3.08935335]]), array([[-0.08636502],\n",
            "       [-0.23197694],\n",
            "       [-3.10758017]]), array([[ 0.0047821 ],\n",
            "       [-0.29208809],\n",
            "       [-3.08939398]]), array([[-0.01826075],\n",
            "       [ 0.2714827 ],\n",
            "       [ 3.09207737]]), array([[ 0.11088541],\n",
            "       [-0.38778442],\n",
            "       [-3.07397992]]), array([[-0.01093543],\n",
            "       [ 0.22033566],\n",
            "       [ 3.09833168]]), array([[-0.02352211],\n",
            "       [ 0.26332381],\n",
            "       [ 3.11381814]]), array([[-0.073752  ],\n",
            "       [ 0.31947495],\n",
            "       [ 3.12783631]]), array([[0.04407581],\n",
            "       [0.28433614],\n",
            "       [3.11518846]]), array([[ 0.03667529],\n",
            "       [-0.34678876],\n",
            "       [-3.09942564]]), array([[0.0215417 ],\n",
            "       [0.25265987],\n",
            "       [3.11254347]]), array([[ 0.01976447],\n",
            "       [-0.34117789],\n",
            "       [-3.10112758]]), array([[0.06808067],\n",
            "       [0.14123727],\n",
            "       [3.12216488]]), array([[ 0.09868968],\n",
            "       [-0.35750503],\n",
            "       [-3.06632763]]), array([[0.0629121 ],\n",
            "       [0.13731251],\n",
            "       [3.12878844]]), array([[ 0.09642819],\n",
            "       [-0.3562688 ],\n",
            "       [-3.0767831 ]]), array([[0.02327017],\n",
            "       [0.22175312],\n",
            "       [3.07317561]]), array([[-0.04007331],\n",
            "       [ 0.31751665],\n",
            "       [ 3.12303248]]), array([[ 0.08959734],\n",
            "       [-0.41427693],\n",
            "       [-3.06616525]]), array([[ 0.15229888],\n",
            "       [-0.36195644],\n",
            "       [-3.06224816]]), array([[-0.1211702 ],\n",
            "       [ 0.29073135],\n",
            "       [ 3.12339859]]), array([[ 0.13721053],\n",
            "       [-0.36521855],\n",
            "       [-3.07608989]]), array([[0.01854853],\n",
            "       [0.18530519],\n",
            "       [3.11690692]]))\n"
          ]
        }
      ],
      "source": [
        "\n",
        "print(\"\\n Rotation Vectors:\")\n",
        "print(r_vecs)"
      ]
    }
  ],
  "metadata": {
    "colab": {
      "provenance": []
    },
    "kernelspec": {
      "display_name": "Python 3 (ipykernel)",
      "language": "python",
      "name": "python3"
    },
    "language_info": {
      "codemirror_mode": {
        "name": "ipython",
        "version": 3
      },
      "file_extension": ".py",
      "mimetype": "text/x-python",
      "name": "python",
      "nbconvert_exporter": "python",
      "pygments_lexer": "ipython3",
      "version": "3.11.5"
    }
  },
  "nbformat": 4,
  "nbformat_minor": 0
}
