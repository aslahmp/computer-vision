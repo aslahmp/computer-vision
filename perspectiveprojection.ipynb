{
  "cells": [
    {
      "cell_type": "code",
      "execution_count": 1,
      "metadata": {
        "id": "Xqbe3rYAodw_"
      },
      "outputs": [],
      "source": [
        "import cv2\n",
        "import numpy as np\n",
        "import matplotlib.pyplot as plt\n"
      ]
    },
    {
      "cell_type": "code",
      "execution_count": 2,
      "metadata": {
        "id": "Px6hYqx2oeVa"
      },
      "outputs": [
        {
          "name": "stderr",
          "output_type": "stream",
          "text": [
            "[ WARN:0@0.342] global loadsave.cpp:241 findDecoder imread_('/Users/aslahmp/Documents/college/class/cv/captured_images/1.jpeg'): can't open/read file: check file path/integrity\n"
          ]
        }
      ],
      "source": [
        "image_path = '/Users/aslahmp/Documents/college/class/cv/captured_images/1.jpeg'\n",
        "frame = cv2.imread(image_path)"
      ]
    },
    {
      "cell_type": "code",
      "execution_count": 3,
      "metadata": {
        "id": "KubTl_j4oy8R"
      },
      "outputs": [
        {
          "name": "stdout",
          "output_type": "stream",
          "text": [
            "Error loading image\n"
          ]
        }
      ],
      "source": [
        "if frame is None:\n",
        "    print(\"Error loading image\")\n",
        "    \n",
        "else:\n",
        "    pts1 = np.float32([[0, 260], [640, 260], [0, 400], [640, 400]])\n",
        "    pts2 = np.float32([[0, 0], [300, 0], [0, 540], [300, 540]])"
      ]
    },
    {
      "cell_type": "code",
      "execution_count": 4,
      "metadata": {
        "id": "kzcU3jtUo_8t"
      },
      "outputs": [
        {
          "ename": "NameError",
          "evalue": "name 'pts1' is not defined",
          "output_type": "error",
          "traceback": [
            "\u001b[0;31m---------------------------------------------------------------------------\u001b[0m",
            "\u001b[0;31mNameError\u001b[0m                                 Traceback (most recent call last)",
            "Cell \u001b[0;32mIn[4], line 1\u001b[0m\n\u001b[0;32m----> 1\u001b[0m matrix \u001b[38;5;241m=\u001b[39m cv2\u001b[38;5;241m.\u001b[39mgetPerspectiveTransform(pts1, pts2)\n\u001b[1;32m      2\u001b[0m result \u001b[38;5;241m=\u001b[39m cv2\u001b[38;5;241m.\u001b[39mwarpPerspective(frame, matrix, (\u001b[38;5;241m500\u001b[39m, \u001b[38;5;241m1000\u001b[39m))\n",
            "\u001b[0;31mNameError\u001b[0m: name 'pts1' is not defined"
          ]
        }
      ],
      "source": [
        "matrix = cv2.getPerspectiveTransform(pts1, pts2)\n",
        "result = cv2.warpPerspective(frame, matrix, (500, 1000))\n"
      ]
    },
    {
      "cell_type": "code",
      "execution_count": null,
      "metadata": {
        "colab": {
          "base_uri": "https://localhost:8080/",
          "height": 1000
        },
        "id": "9jL-Rg_BpH7w",
        "outputId": "a0e20b0f-36d1-4c40-c6c6-d70c8fe4e991"
      },
      "outputs": [],
      "source": [
        "cv2.imshow('frame', frame)\n",
        "cv2.waitKey(0)\n",
        "cv2.imshow('result', result)\n",
        "\n",
        "cv2.waitKey(0)\n",
        "cv2.destroyAllWindows()"
      ]
    }
  ],
  "metadata": {
    "colab": {
      "provenance": []
    },
    "kernelspec": {
      "display_name": "Python 3 (ipykernel)",
      "language": "python",
      "name": "python3"
    },
    "language_info": {
      "codemirror_mode": {
        "name": "ipython",
        "version": 3
      },
      "file_extension": ".py",
      "mimetype": "text/x-python",
      "name": "python",
      "nbconvert_exporter": "python",
      "pygments_lexer": "ipython3",
      "version": "3.11.5"
    }
  },
  "nbformat": 4,
  "nbformat_minor": 0
}
